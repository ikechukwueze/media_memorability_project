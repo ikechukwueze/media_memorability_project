{
 "cells": [
  {
   "cell_type": "code",
   "execution_count": 1,
   "metadata": {},
   "outputs": [
    {
     "name": "stdout",
     "output_type": "stream",
     "text": [
      "(91, 320, 568, 3)\n"
     ]
    }
   ],
   "source": [
    "import skvideo.io\n",
    "import skvideo.datasets\n",
    "import numpy as np\n",
    "\n",
    "video_name = \"peeks-www_k_to_keek_QZSweab_1.mp4\"\n",
    "video = f\"./resources/raw_videos/{video_name}\"\n",
    "#video = skvideo.datasets.bigbuckbunny()    \n",
    "videodata = skvideo.io.vread(video)\n",
    "print(videodata.shape)"
   ]
  },
  {
   "cell_type": "code",
   "execution_count": 2,
   "metadata": {},
   "outputs": [
    {
     "data": {
      "text/plain": [
       "(16540160, 3)"
      ]
     },
     "execution_count": 2,
     "metadata": {},
     "output_type": "execute_result"
    }
   ],
   "source": [
    "frames, height, width, channels = videodata.shape\n",
    "reshaped = np.reshape(videodata, (frames * height * width, channels))\n",
    "reshaped.shape"
   ]
  },
  {
   "cell_type": "code",
   "execution_count": 3,
   "metadata": {},
   "outputs": [
    {
     "data": {
      "text/plain": [
       "array([[30, 12,  9],\n",
       "       [36, 18, 15],\n",
       "       [45, 23, 17],\n",
       "       [46, 24, 18],\n",
       "       [59, 27, 13]], dtype=uint8)"
      ]
     },
     "execution_count": 3,
     "metadata": {},
     "output_type": "execute_result"
    }
   ],
   "source": [
    "reshaped[:5]"
   ]
  },
  {
   "cell_type": "code",
   "execution_count": 4,
   "metadata": {},
   "outputs": [],
   "source": [
    "import json\n",
    "memento_data_path = \"./resources/Memento10k/training_set/memento_train_data.json\"\n",
    "\n",
    "with open(memento_data_path) as json_file:\n",
    "    memento_json_data = json.load(json_file)"
   ]
  },
  {
   "cell_type": "code",
   "execution_count": 9,
   "metadata": {},
   "outputs": [
    {
     "data": {
      "text/plain": [
       "[{'filename': 'adult-female-singing_peeks-www_k_to_keek_2Qwueab_25.mp4',\n",
       "  'url': 'https://data.csail.mit.edu/soundnet/actions3/adult+female+singing/peeks-www_k_to_keek_2Qwueab_25.mp4',\n",
       "  'mem_score': 0.9891514478670866,\n",
       "  'alpha': -0.0003866407543994376,\n",
       "  'audio_description': \"indoors you see a woman with red hair held up in a bun and piercings on either side of her lip she's looking sad\",\n",
       "  'captions': ['A brown hair girl with lip piercings mumbles something then looks away.',\n",
       "   'A brown hair girl that looks sad opens her mouth and says something before turning away.',\n",
       "   'A girl with brown hair and lip rings looks away from the camera.',\n",
       "   'A young woman wearing a striped shirt, who has two piercings in her lower lip, looks distressed.',\n",
       "   'A girl staring at the camera with earnings on its mouth'],\n",
       "  'action_labels': ['holding', 'looking', 'adult+female+singing', 'singing']}]"
      ]
     },
     "execution_count": 9,
     "metadata": {},
     "output_type": "execute_result"
    }
   ],
   "source": [
    "subset = memento_json_data[:1]\n",
    "subset"
   ]
  },
  {
   "cell_type": "code",
   "execution_count": null,
   "metadata": {},
   "outputs": [],
   "source": []
  },
  {
   "cell_type": "code",
   "execution_count": null,
   "metadata": {},
   "outputs": [],
   "source": []
  }
 ],
 "metadata": {
  "kernelspec": {
   "display_name": "Python 3",
   "language": "python",
   "name": "python3"
  },
  "language_info": {
   "codemirror_mode": {
    "name": "ipython",
    "version": 3
   },
   "file_extension": ".py",
   "mimetype": "text/x-python",
   "name": "python",
   "nbconvert_exporter": "python",
   "pygments_lexer": "ipython3",
   "version": "3.11.3"
  },
  "orig_nbformat": 4
 },
 "nbformat": 4,
 "nbformat_minor": 2
}
